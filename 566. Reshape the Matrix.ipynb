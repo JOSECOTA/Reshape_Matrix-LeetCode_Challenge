{
 "cells": [
  {
   "cell_type": "code",
   "execution_count": 3,
   "id": "2b5350b2",
   "metadata": {},
   "outputs": [],
   "source": [
    "def reshape_matrix(mat, r, c):\n",
    "    arr = []\n",
    "    newmat = []\n",
    "    col = 0 \n",
    "\n",
    "    if len(mat)*len(mat[0])!= r*c:\n",
    "        print(mat)\n",
    "    for i in range(len(mat)):\n",
    "        for j in range(len(mat[0])):\n",
    "            arr.append(mat[i][j])\n",
    "            col +=1\n",
    "            if col == c:\n",
    "                newmat.append(arr)\n",
    "                arr = []\n",
    "                col = 0\n",
    "\n",
    "    return newmat"
   ]
  },
  {
   "cell_type": "code",
   "execution_count": 5,
   "id": "4f98d4e1",
   "metadata": {},
   "outputs": [
    {
     "data": {
      "text/plain": [
       "[[1, 2, 3, 4]]"
      ]
     },
     "execution_count": 5,
     "metadata": {},
     "output_type": "execute_result"
    }
   ],
   "source": [
    "reshape_matrix([[1,2],[3,4]] , 1, 4)"
   ]
  },
  {
   "cell_type": "code",
   "execution_count": null,
   "id": "fd05d183",
   "metadata": {},
   "outputs": [],
   "source": []
  }
 ],
 "metadata": {
  "kernelspec": {
   "display_name": "Python 3 (ipykernel)",
   "language": "python",
   "name": "python3"
  },
  "language_info": {
   "codemirror_mode": {
    "name": "ipython",
    "version": 3
   },
   "file_extension": ".py",
   "mimetype": "text/x-python",
   "name": "python",
   "nbconvert_exporter": "python",
   "pygments_lexer": "ipython3",
   "version": "3.9.7"
  }
 },
 "nbformat": 4,
 "nbformat_minor": 5
}
